{
 "cells": [
  {
   "cell_type": "code",
   "execution_count": 1,
   "metadata": {},
   "outputs": [],
   "source": [
    "from pytorch_tabular.utils import load_covertype_dataset\n",
    "data, _, _, _ = load_covertype_dataset()"
   ]
  },
  {
   "cell_type": "code",
   "execution_count": 2,
   "metadata": {},
   "outputs": [
    {
     "data": {
      "text/html": [
       "<pre style=\"white-space:pre;overflow-x:auto;line-height:normal;font-family:Menlo,'DejaVu Sans Mono',consolas,'Courier New',monospace\"><span style=\"color: #800080; text-decoration-color: #800080; font-weight: bold\">Index</span><span style=\"font-weight: bold\">([</span><span style=\"color: #008000; text-decoration-color: #008000\">'Wilderness_Area'</span>, <span style=\"color: #008000; text-decoration-color: #008000\">'Soil_Type'</span><span style=\"font-weight: bold\">]</span>, <span style=\"color: #808000; text-decoration-color: #808000\">dtype</span>=<span style=\"color: #008000; text-decoration-color: #008000\">'object'</span><span style=\"font-weight: bold\">)</span>\n",
       "</pre>\n"
      ],
      "text/plain": [
       "\u001b[1;35mIndex\u001b[0m\u001b[1m(\u001b[0m\u001b[1m[\u001b[0m\u001b[32m'Wilderness_Area'\u001b[0m, \u001b[32m'Soil_Type'\u001b[0m\u001b[1m]\u001b[0m, \u001b[33mdtype\u001b[0m=\u001b[32m'object'\u001b[0m\u001b[1m)\u001b[0m\n"
      ]
     },
     "metadata": {},
     "output_type": "display_data"
    }
   ],
   "source": [
    "from rich import print\n",
    "# One of the easiest ways to identify categorical features is using the pandas select_dtypes function.\n",
    "categorical_features = data.select_dtypes(include=['object'])\n",
    "print(categorical_features.columns)"
   ]
  },
  {
   "cell_type": "code",
   "execution_count": 3,
   "metadata": {},
   "outputs": [
    {
     "data": {
      "text/html": [
       "<pre style=\"white-space:pre;overflow-x:auto;line-height:normal;font-family:Menlo,'DejaVu Sans Mono',consolas,'Courier New',monospace\">Elevation <span style=\"color: #008080; text-decoration-color: #008080; font-weight: bold\">1978</span>\n",
       "</pre>\n"
      ],
      "text/plain": [
       "Elevation \u001b[1;36m1978\u001b[0m\n"
      ]
     },
     "metadata": {},
     "output_type": "display_data"
    },
    {
     "data": {
      "text/html": [
       "<pre style=\"white-space:pre;overflow-x:auto;line-height:normal;font-family:Menlo,'DejaVu Sans Mono',consolas,'Courier New',monospace\">Aspect <span style=\"color: #008080; text-decoration-color: #008080; font-weight: bold\">361</span>\n",
       "</pre>\n"
      ],
      "text/plain": [
       "Aspect \u001b[1;36m361\u001b[0m\n"
      ]
     },
     "metadata": {},
     "output_type": "display_data"
    },
    {
     "data": {
      "text/html": [
       "<pre style=\"white-space:pre;overflow-x:auto;line-height:normal;font-family:Menlo,'DejaVu Sans Mono',consolas,'Courier New',monospace\">Slope <span style=\"color: #008080; text-decoration-color: #008080; font-weight: bold\">67</span>\n",
       "</pre>\n"
      ],
      "text/plain": [
       "Slope \u001b[1;36m67\u001b[0m\n"
      ]
     },
     "metadata": {},
     "output_type": "display_data"
    },
    {
     "data": {
      "text/html": [
       "<pre style=\"white-space:pre;overflow-x:auto;line-height:normal;font-family:Menlo,'DejaVu Sans Mono',consolas,'Courier New',monospace\">Horizontal_Distance_To_Hydrology <span style=\"color: #008080; text-decoration-color: #008080; font-weight: bold\">551</span>\n",
       "</pre>\n"
      ],
      "text/plain": [
       "Horizontal_Distance_To_Hydrology \u001b[1;36m551\u001b[0m\n"
      ]
     },
     "metadata": {},
     "output_type": "display_data"
    },
    {
     "data": {
      "text/html": [
       "<pre style=\"white-space:pre;overflow-x:auto;line-height:normal;font-family:Menlo,'DejaVu Sans Mono',consolas,'Courier New',monospace\">Vertical_Distance_To_Hydrology <span style=\"color: #008080; text-decoration-color: #008080; font-weight: bold\">700</span>\n",
       "</pre>\n"
      ],
      "text/plain": [
       "Vertical_Distance_To_Hydrology \u001b[1;36m700\u001b[0m\n"
      ]
     },
     "metadata": {},
     "output_type": "display_data"
    },
    {
     "data": {
      "text/html": [
       "<pre style=\"white-space:pre;overflow-x:auto;line-height:normal;font-family:Menlo,'DejaVu Sans Mono',consolas,'Courier New',monospace\">Horizontal_Distance_To_Roadways <span style=\"color: #008080; text-decoration-color: #008080; font-weight: bold\">5785</span>\n",
       "</pre>\n"
      ],
      "text/plain": [
       "Horizontal_Distance_To_Roadways \u001b[1;36m5785\u001b[0m\n"
      ]
     },
     "metadata": {},
     "output_type": "display_data"
    },
    {
     "data": {
      "text/html": [
       "<pre style=\"white-space:pre;overflow-x:auto;line-height:normal;font-family:Menlo,'DejaVu Sans Mono',consolas,'Courier New',monospace\">Hillshade_9am <span style=\"color: #008080; text-decoration-color: #008080; font-weight: bold\">207</span>\n",
       "</pre>\n"
      ],
      "text/plain": [
       "Hillshade_9am \u001b[1;36m207\u001b[0m\n"
      ]
     },
     "metadata": {},
     "output_type": "display_data"
    },
    {
     "data": {
      "text/html": [
       "<pre style=\"white-space:pre;overflow-x:auto;line-height:normal;font-family:Menlo,'DejaVu Sans Mono',consolas,'Courier New',monospace\">Hillshade_Noon <span style=\"color: #008080; text-decoration-color: #008080; font-weight: bold\">185</span>\n",
       "</pre>\n"
      ],
      "text/plain": [
       "Hillshade_Noon \u001b[1;36m185\u001b[0m\n"
      ]
     },
     "metadata": {},
     "output_type": "display_data"
    },
    {
     "data": {
      "text/html": [
       "<pre style=\"white-space:pre;overflow-x:auto;line-height:normal;font-family:Menlo,'DejaVu Sans Mono',consolas,'Courier New',monospace\">Hillshade_3pm <span style=\"color: #008080; text-decoration-color: #008080; font-weight: bold\">255</span>\n",
       "</pre>\n"
      ],
      "text/plain": [
       "Hillshade_3pm \u001b[1;36m255\u001b[0m\n"
      ]
     },
     "metadata": {},
     "output_type": "display_data"
    },
    {
     "data": {
      "text/html": [
       "<pre style=\"white-space:pre;overflow-x:auto;line-height:normal;font-family:Menlo,'DejaVu Sans Mono',consolas,'Courier New',monospace\">Horizontal_Distance_To_Fire_Points <span style=\"color: #008080; text-decoration-color: #008080; font-weight: bold\">5827</span>\n",
       "</pre>\n"
      ],
      "text/plain": [
       "Horizontal_Distance_To_Fire_Points \u001b[1;36m5827\u001b[0m\n"
      ]
     },
     "metadata": {},
     "output_type": "display_data"
    },
    {
     "data": {
      "text/html": [
       "<pre style=\"white-space:pre;overflow-x:auto;line-height:normal;font-family:Menlo,'DejaVu Sans Mono',consolas,'Courier New',monospace\">Cover_Type <span style=\"color: #008080; text-decoration-color: #008080; font-weight: bold\">7</span>\n",
       "</pre>\n"
      ],
      "text/plain": [
       "Cover_Type \u001b[1;36m7\u001b[0m\n"
      ]
     },
     "metadata": {},
     "output_type": "display_data"
    },
    {
     "data": {
      "text/html": [
       "<pre style=\"white-space:pre;overflow-x:auto;line-height:normal;font-family:Menlo,'DejaVu Sans Mono',consolas,'Courier New',monospace\">Wilderness_Area <span style=\"color: #008080; text-decoration-color: #008080; font-weight: bold\">4</span>\n",
       "</pre>\n"
      ],
      "text/plain": [
       "Wilderness_Area \u001b[1;36m4\u001b[0m\n"
      ]
     },
     "metadata": {},
     "output_type": "display_data"
    },
    {
     "data": {
      "text/html": [
       "<pre style=\"white-space:pre;overflow-x:auto;line-height:normal;font-family:Menlo,'DejaVu Sans Mono',consolas,'Courier New',monospace\">Soil_Type <span style=\"color: #008080; text-decoration-color: #008080; font-weight: bold\">40</span>\n",
       "</pre>\n"
      ],
      "text/plain": [
       "Soil_Type \u001b[1;36m40\u001b[0m\n"
      ]
     },
     "metadata": {},
     "output_type": "display_data"
    }
   ],
   "source": [
    "# Another way is to use the unique values in each column.\n",
    "for col in data.columns:\n",
    "    print(col, len(data[col].unique()))"
   ]
  },
  {
   "cell_type": "code",
   "execution_count": 4,
   "metadata": {},
   "outputs": [
    {
     "data": {
      "text/html": [
       "<pre style=\"white-space:pre;overflow-x:auto;line-height:normal;font-family:Menlo,'DejaVu Sans Mono',consolas,'Courier New',monospace\">Data Shape: <span style=\"font-weight: bold\">(</span><span style=\"color: #008080; text-decoration-color: #008080; font-weight: bold\">581012</span>, <span style=\"color: #008080; text-decoration-color: #008080; font-weight: bold\">13</span><span style=\"font-weight: bold\">)</span> | # of cat cols: <span style=\"color: #008080; text-decoration-color: #008080; font-weight: bold\">2</span> | # of num cols: <span style=\"color: #008080; text-decoration-color: #008080; font-weight: bold\">10</span>\n",
       "</pre>\n"
      ],
      "text/plain": [
       "Data Shape: \u001b[1m(\u001b[0m\u001b[1;36m581012\u001b[0m, \u001b[1;36m13\u001b[0m\u001b[1m)\u001b[0m | # of cat cols: \u001b[1;36m2\u001b[0m | # of num cols: \u001b[1;36m10\u001b[0m\n"
      ]
     },
     "metadata": {},
     "output_type": "display_data"
    },
    {
     "data": {
      "text/html": [
       "<pre style=\"white-space:pre;overflow-x:auto;line-height:normal;font-family:Menlo,'DejaVu Sans Mono',consolas,'Courier New',monospace\"><span style=\"color: #005fff; text-decoration-color: #005fff; font-weight: bold\"> Features: [</span><span style=\"color: #005fff; text-decoration-color: #005fff; font-weight: bold\">'Elevation'</span><span style=\"color: #005fff; text-decoration-color: #005fff; font-weight: bold\">, </span><span style=\"color: #005fff; text-decoration-color: #005fff; font-weight: bold\">'Aspect'</span><span style=\"color: #005fff; text-decoration-color: #005fff; font-weight: bold\">, </span><span style=\"color: #005fff; text-decoration-color: #005fff; font-weight: bold\">'Slope'</span><span style=\"color: #005fff; text-decoration-color: #005fff; font-weight: bold\">, </span><span style=\"color: #005fff; text-decoration-color: #005fff; font-weight: bold\">'Horizontal_Distance_To_Hydrology'</span><span style=\"color: #005fff; text-decoration-color: #005fff; font-weight: bold\">, </span><span style=\"color: #005fff; text-decoration-color: #005fff; font-weight: bold\">'Vertical_Distance_To_Hydrology'</span><span style=\"color: #005fff; text-decoration-color: #005fff; font-weight: bold\">, </span>\n",
       "<span style=\"color: #005fff; text-decoration-color: #005fff; font-weight: bold\">'Horizontal_Distance_To_Roadways'</span><span style=\"color: #005fff; text-decoration-color: #005fff; font-weight: bold\">, </span><span style=\"color: #005fff; text-decoration-color: #005fff; font-weight: bold\">'Hillshade_9am'</span><span style=\"color: #005fff; text-decoration-color: #005fff; font-weight: bold\">, </span><span style=\"color: #005fff; text-decoration-color: #005fff; font-weight: bold\">'Hillshade_Noon'</span><span style=\"color: #005fff; text-decoration-color: #005fff; font-weight: bold\">, </span><span style=\"color: #005fff; text-decoration-color: #005fff; font-weight: bold\">'Hillshade_3pm'</span><span style=\"color: #005fff; text-decoration-color: #005fff; font-weight: bold\">, </span>\n",
       "<span style=\"color: #005fff; text-decoration-color: #005fff; font-weight: bold\">'Horizontal_Distance_To_Fire_Points'</span><span style=\"color: #005fff; text-decoration-color: #005fff; font-weight: bold\">, </span><span style=\"color: #005fff; text-decoration-color: #005fff; font-weight: bold\">'Wilderness_Area'</span><span style=\"color: #005fff; text-decoration-color: #005fff; font-weight: bold\">, </span><span style=\"color: #005fff; text-decoration-color: #005fff; font-weight: bold\">'Soil_Type'</span><span style=\"color: #005fff; text-decoration-color: #005fff; font-weight: bold\">]</span>\n",
       "</pre>\n"
      ],
      "text/plain": [
       "\u001b[1;38;5;27m Features: \u001b[0m\u001b[1;38;5;27m[\u001b[0m\u001b[1;38;5;27m'Elevation'\u001b[0m\u001b[1;38;5;27m, \u001b[0m\u001b[1;38;5;27m'Aspect'\u001b[0m\u001b[1;38;5;27m, \u001b[0m\u001b[1;38;5;27m'Slope'\u001b[0m\u001b[1;38;5;27m, \u001b[0m\u001b[1;38;5;27m'Horizontal_Distance_To_Hydrology'\u001b[0m\u001b[1;38;5;27m, \u001b[0m\u001b[1;38;5;27m'Vertical_Distance_To_Hydrology'\u001b[0m\u001b[1;38;5;27m, \u001b[0m\n",
       "\u001b[1;38;5;27m'Horizontal_Distance_To_Roadways'\u001b[0m\u001b[1;38;5;27m, \u001b[0m\u001b[1;38;5;27m'Hillshade_9am'\u001b[0m\u001b[1;38;5;27m, \u001b[0m\u001b[1;38;5;27m'Hillshade_Noon'\u001b[0m\u001b[1;38;5;27m, \u001b[0m\u001b[1;38;5;27m'Hillshade_3pm'\u001b[0m\u001b[1;38;5;27m, \u001b[0m\n",
       "\u001b[1;38;5;27m'Horizontal_Distance_To_Fire_Points'\u001b[0m\u001b[1;38;5;27m, \u001b[0m\u001b[1;38;5;27m'Wilderness_Area'\u001b[0m\u001b[1;38;5;27m, \u001b[0m\u001b[1;38;5;27m'Soil_Type'\u001b[0m\u001b[1;38;5;27m]\u001b[0m\n"
      ]
     },
     "metadata": {},
     "output_type": "display_data"
    },
    {
     "data": {
      "text/html": [
       "<pre style=\"white-space:pre;overflow-x:auto;line-height:normal;font-family:Menlo,'DejaVu Sans Mono',consolas,'Courier New',monospace\"><span style=\"color: #5f00af; text-decoration-color: #5f00af; font-weight: bold\">Target: Cover_Type</span>\n",
       "</pre>\n"
      ],
      "text/plain": [
       "\u001b[1;38;5;55mTarget: Cover_Type\u001b[0m\n"
      ]
     },
     "metadata": {},
     "output_type": "display_data"
    }
   ],
   "source": [
    "# This separation have already been done for you while loading this particular dataset from `PyTorch Tabular`. Let's load the dataset in the right way.\n",
    "data, cat_col_names, num_col_names, target_col = load_covertype_dataset()\n",
    "# Let's also print out a few details\n",
    "print(f\"Data Shape: {data.shape} | # of cat cols: {len(cat_col_names)} | # of num cols: {len(num_col_names)}\")\n",
    "print(f\"[bold dodger_blue2] Features: {num_col_names + cat_col_names}[/bold dodger_blue2]\")\n",
    "print(f\"[bold purple4]Target: {target_col}[/bold purple4]\")"
   ]
  },
  {
   "cell_type": "code",
   "execution_count": 23,
   "metadata": {},
   "outputs": [],
   "source": [
    "import pandas as pd\n",
    "uhi_data = pd.read_csv(\"/Users/beas28/Desktop/info Challenge/uhi_data_processed.csv\").dropna()\n",
    "features_columns = [\n",
    "    'B01', 'B02', 'B03', 'B04', 'B05', 'B12', \n",
    "    'NDVI', 'NDMI', 'NDBI', 'NDWI', 'UI', 'STI', \n",
    "    'B11_B12_ratio', 'veg_fraction', 'impervious_estimate', 'UHI Index'\n",
    "]\n",
    "model_data = uhi_data[features_columns]"
   ]
  },
  {
   "cell_type": "code",
   "execution_count": 24,
   "metadata": {},
   "outputs": [
    {
     "data": {
      "text/html": [
       "<pre style=\"white-space:pre;overflow-x:auto;line-height:normal;font-family:Menlo,'DejaVu Sans Mono',consolas,'Courier New',monospace\">Train Shape: <span style=\"font-weight: bold\">(</span><span style=\"color: #008080; text-decoration-color: #008080; font-weight: bold\">15835</span>, <span style=\"color: #008080; text-decoration-color: #008080; font-weight: bold\">16</span><span style=\"font-weight: bold\">)</span> | Val Shape: <span style=\"font-weight: bold\">(</span><span style=\"color: #008080; text-decoration-color: #008080; font-weight: bold\">3959</span>, <span style=\"color: #008080; text-decoration-color: #008080; font-weight: bold\">16</span><span style=\"font-weight: bold\">)</span> | Test Shape: <span style=\"font-weight: bold\">(</span><span style=\"color: #008080; text-decoration-color: #008080; font-weight: bold\">4949</span>, <span style=\"color: #008080; text-decoration-color: #008080; font-weight: bold\">16</span><span style=\"font-weight: bold\">)</span>\n",
       "</pre>\n"
      ],
      "text/plain": [
       "Train Shape: \u001b[1m(\u001b[0m\u001b[1;36m15835\u001b[0m, \u001b[1;36m16\u001b[0m\u001b[1m)\u001b[0m | Val Shape: \u001b[1m(\u001b[0m\u001b[1;36m3959\u001b[0m, \u001b[1;36m16\u001b[0m\u001b[1m)\u001b[0m | Test Shape: \u001b[1m(\u001b[0m\u001b[1;36m4949\u001b[0m, \u001b[1;36m16\u001b[0m\u001b[1m)\u001b[0m\n"
      ]
     },
     "metadata": {},
     "output_type": "display_data"
    }
   ],
   "source": [
    "from sklearn.model_selection import train_test_split\n",
    "train, test = train_test_split(model_data, random_state=42, test_size=0.2)\n",
    "train, val = train_test_split(train, random_state=42, test_size=0.2)\n",
    "print(f\"Train Shape: {train.shape} | Val Shape: {val.shape} | Test Shape: {test.shape}\")"
   ]
  },
  {
   "cell_type": "code",
   "execution_count": 25,
   "metadata": {},
   "outputs": [
    {
     "data": {
      "text/html": [
       "<div>\n",
       "<style scoped>\n",
       "    .dataframe tbody tr th:only-of-type {\n",
       "        vertical-align: middle;\n",
       "    }\n",
       "\n",
       "    .dataframe tbody tr th {\n",
       "        vertical-align: top;\n",
       "    }\n",
       "\n",
       "    .dataframe thead th {\n",
       "        text-align: right;\n",
       "    }\n",
       "</style>\n",
       "<table border=\"1\" class=\"dataframe\">\n",
       "  <thead>\n",
       "    <tr style=\"text-align: right;\">\n",
       "      <th></th>\n",
       "      <th>B01</th>\n",
       "      <th>B02</th>\n",
       "      <th>B03</th>\n",
       "      <th>B04</th>\n",
       "      <th>B05</th>\n",
       "      <th>B12</th>\n",
       "      <th>NDVI</th>\n",
       "      <th>NDMI</th>\n",
       "      <th>NDBI</th>\n",
       "      <th>NDWI</th>\n",
       "      <th>UI</th>\n",
       "      <th>STI</th>\n",
       "      <th>B11_B12_ratio</th>\n",
       "      <th>veg_fraction</th>\n",
       "      <th>impervious_estimate</th>\n",
       "      <th>UHI Index</th>\n",
       "    </tr>\n",
       "  </thead>\n",
       "  <tbody>\n",
       "    <tr>\n",
       "      <th>21546</th>\n",
       "      <td>1898.0</td>\n",
       "      <td>1870.0</td>\n",
       "      <td>1915.0</td>\n",
       "      <td>1970.0</td>\n",
       "      <td>2205.0</td>\n",
       "      <td>2439.0</td>\n",
       "      <td>0.061010</td>\n",
       "      <td>-0.118590</td>\n",
       "      <td>0.118590</td>\n",
       "      <td>-0.075103</td>\n",
       "      <td>0.203408</td>\n",
       "      <td>1.158262</td>\n",
       "      <td>1.158262</td>\n",
       "      <td>0.061010</td>\n",
       "      <td>0.938990</td>\n",
       "      <td>1.009010</td>\n",
       "    </tr>\n",
       "    <tr>\n",
       "      <th>7947</th>\n",
       "      <td>1447.0</td>\n",
       "      <td>1502.0</td>\n",
       "      <td>1586.0</td>\n",
       "      <td>1478.0</td>\n",
       "      <td>1693.0</td>\n",
       "      <td>1815.0</td>\n",
       "      <td>0.395254</td>\n",
       "      <td>0.157698</td>\n",
       "      <td>-0.157698</td>\n",
       "      <td>-0.365092</td>\n",
       "      <td>0.245795</td>\n",
       "      <td>1.366942</td>\n",
       "      <td>1.366942</td>\n",
       "      <td>0.395254</td>\n",
       "      <td>0.604746</td>\n",
       "      <td>1.016729</td>\n",
       "    </tr>\n",
       "    <tr>\n",
       "      <th>751</th>\n",
       "      <td>1242.0</td>\n",
       "      <td>1421.0</td>\n",
       "      <td>1559.0</td>\n",
       "      <td>1368.0</td>\n",
       "      <td>1698.0</td>\n",
       "      <td>1735.0</td>\n",
       "      <td>0.490313</td>\n",
       "      <td>0.233236</td>\n",
       "      <td>-0.233236</td>\n",
       "      <td>-0.439108</td>\n",
       "      <td>0.272774</td>\n",
       "      <td>1.433429</td>\n",
       "      <td>1.433429</td>\n",
       "      <td>0.490313</td>\n",
       "      <td>0.509687</td>\n",
       "      <td>1.002393</td>\n",
       "    </tr>\n",
       "    <tr>\n",
       "      <th>387</th>\n",
       "      <td>1176.0</td>\n",
       "      <td>1310.0</td>\n",
       "      <td>1495.0</td>\n",
       "      <td>1341.0</td>\n",
       "      <td>1725.0</td>\n",
       "      <td>1840.0</td>\n",
       "      <td>0.507800</td>\n",
       "      <td>0.195750</td>\n",
       "      <td>-0.195750</td>\n",
       "      <td>-0.466357</td>\n",
       "      <td>0.356740</td>\n",
       "      <td>1.501630</td>\n",
       "      <td>1.501630</td>\n",
       "      <td>0.507800</td>\n",
       "      <td>0.492200</td>\n",
       "      <td>0.967105</td>\n",
       "    </tr>\n",
       "    <tr>\n",
       "      <th>2778</th>\n",
       "      <td>1345.0</td>\n",
       "      <td>1545.0</td>\n",
       "      <td>1687.0</td>\n",
       "      <td>1534.0</td>\n",
       "      <td>1929.0</td>\n",
       "      <td>1970.0</td>\n",
       "      <td>0.440146</td>\n",
       "      <td>0.159906</td>\n",
       "      <td>-0.159906</td>\n",
       "      <td>-0.401030</td>\n",
       "      <td>0.298206</td>\n",
       "      <td>1.450761</td>\n",
       "      <td>1.450761</td>\n",
       "      <td>0.440146</td>\n",
       "      <td>0.559854</td>\n",
       "      <td>1.000188</td>\n",
       "    </tr>\n",
       "    <tr>\n",
       "      <th>...</th>\n",
       "      <td>...</td>\n",
       "      <td>...</td>\n",
       "      <td>...</td>\n",
       "      <td>...</td>\n",
       "      <td>...</td>\n",
       "      <td>...</td>\n",
       "      <td>...</td>\n",
       "      <td>...</td>\n",
       "      <td>...</td>\n",
       "      <td>...</td>\n",
       "      <td>...</td>\n",
       "      <td>...</td>\n",
       "      <td>...</td>\n",
       "      <td>...</td>\n",
       "      <td>...</td>\n",
       "      <td>...</td>\n",
       "    </tr>\n",
       "    <tr>\n",
       "      <th>4677</th>\n",
       "      <td>1258.0</td>\n",
       "      <td>1317.0</td>\n",
       "      <td>1504.0</td>\n",
       "      <td>1398.0</td>\n",
       "      <td>1984.0</td>\n",
       "      <td>2063.0</td>\n",
       "      <td>0.377560</td>\n",
       "      <td>0.085233</td>\n",
       "      <td>-0.085233</td>\n",
       "      <td>-0.345803</td>\n",
       "      <td>0.328917</td>\n",
       "      <td>1.264178</td>\n",
       "      <td>1.264178</td>\n",
       "      <td>0.377560</td>\n",
       "      <td>0.622440</td>\n",
       "      <td>1.002393</td>\n",
       "    </tr>\n",
       "    <tr>\n",
       "      <th>23038</th>\n",
       "      <td>1352.0</td>\n",
       "      <td>1570.0</td>\n",
       "      <td>1752.0</td>\n",
       "      <td>1570.0</td>\n",
       "      <td>1935.0</td>\n",
       "      <td>2032.0</td>\n",
       "      <td>0.491745</td>\n",
       "      <td>0.234065</td>\n",
       "      <td>-0.234065</td>\n",
       "      <td>-0.449057</td>\n",
       "      <td>0.291196</td>\n",
       "      <td>1.407480</td>\n",
       "      <td>1.407480</td>\n",
       "      <td>0.491745</td>\n",
       "      <td>0.508255</td>\n",
       "      <td>0.997982</td>\n",
       "    </tr>\n",
       "    <tr>\n",
       "      <th>3447</th>\n",
       "      <td>1447.0</td>\n",
       "      <td>1874.0</td>\n",
       "      <td>2180.0</td>\n",
       "      <td>2154.0</td>\n",
       "      <td>2161.0</td>\n",
       "      <td>2206.0</td>\n",
       "      <td>0.287934</td>\n",
       "      <td>0.103058</td>\n",
       "      <td>-0.103058</td>\n",
       "      <td>-0.282423</td>\n",
       "      <td>0.256644</td>\n",
       "      <td>1.436083</td>\n",
       "      <td>1.436083</td>\n",
       "      <td>0.287934</td>\n",
       "      <td>0.712066</td>\n",
       "      <td>0.996879</td>\n",
       "    </tr>\n",
       "    <tr>\n",
       "      <th>22679</th>\n",
       "      <td>1609.0</td>\n",
       "      <td>1652.0</td>\n",
       "      <td>1850.0</td>\n",
       "      <td>1828.0</td>\n",
       "      <td>1924.0</td>\n",
       "      <td>1955.0</td>\n",
       "      <td>0.324963</td>\n",
       "      <td>0.179681</td>\n",
       "      <td>-0.179681</td>\n",
       "      <td>-0.319603</td>\n",
       "      <td>0.203279</td>\n",
       "      <td>1.276215</td>\n",
       "      <td>1.276215</td>\n",
       "      <td>0.324963</td>\n",
       "      <td>0.675037</td>\n",
       "      <td>1.021140</td>\n",
       "    </tr>\n",
       "    <tr>\n",
       "      <th>13927</th>\n",
       "      <td>1750.0</td>\n",
       "      <td>1828.0</td>\n",
       "      <td>1976.0</td>\n",
       "      <td>1936.0</td>\n",
       "      <td>2193.0</td>\n",
       "      <td>2131.0</td>\n",
       "      <td>0.218094</td>\n",
       "      <td>0.046677</td>\n",
       "      <td>-0.046677</td>\n",
       "      <td>-0.208333</td>\n",
       "      <td>0.200874</td>\n",
       "      <td>1.289066</td>\n",
       "      <td>1.289066</td>\n",
       "      <td>0.218094</td>\n",
       "      <td>0.781906</td>\n",
       "      <td>1.023345</td>\n",
       "    </tr>\n",
       "  </tbody>\n",
       "</table>\n",
       "<p>15835 rows × 16 columns</p>\n",
       "</div>"
      ],
      "text/plain": [
       "          B01     B02     B03     B04     B05     B12      NDVI      NDMI  \\\n",
       "21546  1898.0  1870.0  1915.0  1970.0  2205.0  2439.0  0.061010 -0.118590   \n",
       "7947   1447.0  1502.0  1586.0  1478.0  1693.0  1815.0  0.395254  0.157698   \n",
       "751    1242.0  1421.0  1559.0  1368.0  1698.0  1735.0  0.490313  0.233236   \n",
       "387    1176.0  1310.0  1495.0  1341.0  1725.0  1840.0  0.507800  0.195750   \n",
       "2778   1345.0  1545.0  1687.0  1534.0  1929.0  1970.0  0.440146  0.159906   \n",
       "...       ...     ...     ...     ...     ...     ...       ...       ...   \n",
       "4677   1258.0  1317.0  1504.0  1398.0  1984.0  2063.0  0.377560  0.085233   \n",
       "23038  1352.0  1570.0  1752.0  1570.0  1935.0  2032.0  0.491745  0.234065   \n",
       "3447   1447.0  1874.0  2180.0  2154.0  2161.0  2206.0  0.287934  0.103058   \n",
       "22679  1609.0  1652.0  1850.0  1828.0  1924.0  1955.0  0.324963  0.179681   \n",
       "13927  1750.0  1828.0  1976.0  1936.0  2193.0  2131.0  0.218094  0.046677   \n",
       "\n",
       "           NDBI      NDWI        UI       STI  B11_B12_ratio  veg_fraction  \\\n",
       "21546  0.118590 -0.075103  0.203408  1.158262       1.158262      0.061010   \n",
       "7947  -0.157698 -0.365092  0.245795  1.366942       1.366942      0.395254   \n",
       "751   -0.233236 -0.439108  0.272774  1.433429       1.433429      0.490313   \n",
       "387   -0.195750 -0.466357  0.356740  1.501630       1.501630      0.507800   \n",
       "2778  -0.159906 -0.401030  0.298206  1.450761       1.450761      0.440146   \n",
       "...         ...       ...       ...       ...            ...           ...   \n",
       "4677  -0.085233 -0.345803  0.328917  1.264178       1.264178      0.377560   \n",
       "23038 -0.234065 -0.449057  0.291196  1.407480       1.407480      0.491745   \n",
       "3447  -0.103058 -0.282423  0.256644  1.436083       1.436083      0.287934   \n",
       "22679 -0.179681 -0.319603  0.203279  1.276215       1.276215      0.324963   \n",
       "13927 -0.046677 -0.208333  0.200874  1.289066       1.289066      0.218094   \n",
       "\n",
       "       impervious_estimate  UHI Index  \n",
       "21546             0.938990   1.009010  \n",
       "7947              0.604746   1.016729  \n",
       "751               0.509687   1.002393  \n",
       "387               0.492200   0.967105  \n",
       "2778              0.559854   1.000188  \n",
       "...                    ...        ...  \n",
       "4677              0.622440   1.002393  \n",
       "23038             0.508255   0.997982  \n",
       "3447              0.712066   0.996879  \n",
       "22679             0.675037   1.021140  \n",
       "13927             0.781906   1.023345  \n",
       "\n",
       "[15835 rows x 16 columns]"
      ]
     },
     "execution_count": 25,
     "metadata": {},
     "output_type": "execute_result"
    }
   ],
   "source": [
    "train"
   ]
  },
  {
   "cell_type": "code",
   "execution_count": 26,
   "metadata": {},
   "outputs": [],
   "source": [
    "target_col = 'UHI Index'"
   ]
  },
  {
   "cell_type": "code",
   "execution_count": 27,
   "metadata": {},
   "outputs": [
    {
     "data": {
      "text/plain": [
       "['B01',\n",
       " 'B02',\n",
       " 'B03',\n",
       " 'B04',\n",
       " 'B05',\n",
       " 'B12',\n",
       " 'NDVI',\n",
       " 'NDMI',\n",
       " 'NDBI',\n",
       " 'NDWI',\n",
       " 'UI',\n",
       " 'STI',\n",
       " 'B11_B12_ratio',\n",
       " 'veg_fraction',\n",
       " 'impervious_estimate']"
      ]
     },
     "execution_count": 27,
     "metadata": {},
     "output_type": "execute_result"
    }
   ],
   "source": [
    "num_col_names = model_data.select_dtypes(include=['int64', 'float64']).columns.tolist()\n",
    "num_col_names = [col for col in num_col_names if col != 'UHI Index']  # Remove target if present\n",
    "num_col_names"
   ]
  },
  {
   "cell_type": "code",
   "execution_count": 28,
   "metadata": {},
   "outputs": [],
   "source": [
    "cat_col_names = model_data.select_dtypes(include=['object', 'category']).columns.tolist()"
   ]
  },
  {
   "cell_type": "code",
   "execution_count": 135,
   "metadata": {},
   "outputs": [],
   "source": [
    "from pytorch_tabular.models import GANDALFConfig, TabTransformerConfig\n",
    "from pytorch_tabular.config import (\n",
    "    DataConfig,\n",
    "    OptimizerConfig,\n",
    "    TrainerConfig,\n",
    ")\n",
    "\n",
    "data_config = DataConfig(\n",
    "    target=[\n",
    "        target_col\n",
    "    ],  # target should always be a list\n",
    "    # num_workers=10,\n",
    "    continuous_cols=num_col_names,\n",
    "    categorical_cols=cat_col_names,\n",
    ")\n",
    "trainer_config = TrainerConfig(\n",
    "    batch_size=512,\n",
    "    max_epochs=10000,\n",
    "    accelerator = 'auto',\n",
    "    devices = -1\n",
    ")\n",
    "optimizer_config = OptimizerConfig(\n",
    ")\n",
    "model_config = TabTransformerConfig(\n",
    "    task=\"regression\",\n",
    "    input_embed_dim=16,            # Increased embedding dimension\n",
    "    num_heads=8,                   # Using default or increased number of heads\n",
    "    num_attn_blocks=8,             # Increased number of stacked attention layers\n",
    "    transformer_head_dim=16,       # Explicitly set head dimension (if beneficial)\n",
    "    attn_dropout=0.2,              # Keep dropout as needed\n",
    "    add_norm_dropout=0.1,\n",
    "    ff_dropout=0.1,\n",
    "    ff_hidden_multiplier=8,        # Increased feedforward multiplier for more capacity\n",
    "    transformer_activation=\"LeakyReLU\",\n",
    "    learning_rate=5e-3\n",
    ")"
   ]
  },
  {
   "cell_type": "code",
   "execution_count": 136,
   "metadata": {},
   "outputs": [
    {
     "data": {
      "text/html": [
       "<pre style=\"white-space:pre;overflow-x:auto;line-height:normal;font-family:Menlo,'DejaVu Sans Mono',consolas,'Courier New',monospace\"><span style=\"color: #008080; text-decoration-color: #008080; font-weight: bold\">2025</span>-<span style=\"color: #008080; text-decoration-color: #008080; font-weight: bold\">03</span>-<span style=\"color: #008080; text-decoration-color: #008080; font-weight: bold\">04</span> <span style=\"color: #00ff00; text-decoration-color: #00ff00; font-weight: bold\">20:46:32</span>,<span style=\"color: #008080; text-decoration-color: #008080; font-weight: bold\">617</span> - <span style=\"font-weight: bold\">{</span>pytorch_tabular.tabular_model:<span style=\"color: #008080; text-decoration-color: #008080; font-weight: bold\">146</span><span style=\"font-weight: bold\">}</span> - INFO - Experiment Tracking is turned off           \n",
       "</pre>\n"
      ],
      "text/plain": [
       "\u001b[1;36m2025\u001b[0m-\u001b[1;36m03\u001b[0m-\u001b[1;36m04\u001b[0m \u001b[1;92m20:46:32\u001b[0m,\u001b[1;36m617\u001b[0m - \u001b[1m{\u001b[0mpytorch_tabular.tabular_model:\u001b[1;36m146\u001b[0m\u001b[1m}\u001b[0m - INFO - Experiment Tracking is turned off           \n"
      ]
     },
     "metadata": {},
     "output_type": "display_data"
    }
   ],
   "source": [
    "from pytorch_tabular import TabularModel\n",
    "\n",
    "tabular_model = TabularModel(\n",
    "    data_config=data_config,\n",
    "    model_config=model_config,\n",
    "    optimizer_config=optimizer_config,\n",
    "    trainer_config=trainer_config,\n",
    "    verbose=True\n",
    ")"
   ]
  },
  {
   "cell_type": "code",
   "execution_count": 137,
   "metadata": {},
   "outputs": [
    {
     "name": "stderr",
     "output_type": "stream",
     "text": [
      "Seed set to 42\n"
     ]
    },
    {
     "data": {
      "text/html": [
       "<pre style=\"white-space:pre;overflow-x:auto;line-height:normal;font-family:Menlo,'DejaVu Sans Mono',consolas,'Courier New',monospace\"><span style=\"color: #008080; text-decoration-color: #008080; font-weight: bold\">2025</span>-<span style=\"color: #008080; text-decoration-color: #008080; font-weight: bold\">03</span>-<span style=\"color: #008080; text-decoration-color: #008080; font-weight: bold\">04</span> <span style=\"color: #00ff00; text-decoration-color: #00ff00; font-weight: bold\">20:46:32</span>,<span style=\"color: #008080; text-decoration-color: #008080; font-weight: bold\">770</span> - <span style=\"font-weight: bold\">{</span>pytorch_tabular.tabular_model:<span style=\"color: #008080; text-decoration-color: #008080; font-weight: bold\">548</span><span style=\"font-weight: bold\">}</span> - INFO - Preparing the DataLoaders                   \n",
       "</pre>\n"
      ],
      "text/plain": [
       "\u001b[1;36m2025\u001b[0m-\u001b[1;36m03\u001b[0m-\u001b[1;36m04\u001b[0m \u001b[1;92m20:46:32\u001b[0m,\u001b[1;36m770\u001b[0m - \u001b[1m{\u001b[0mpytorch_tabular.tabular_model:\u001b[1;36m548\u001b[0m\u001b[1m}\u001b[0m - INFO - Preparing the DataLoaders                   \n"
      ]
     },
     "metadata": {},
     "output_type": "display_data"
    },
    {
     "data": {
      "text/html": [
       "<pre style=\"white-space:pre;overflow-x:auto;line-height:normal;font-family:Menlo,'DejaVu Sans Mono',consolas,'Courier New',monospace\"><span style=\"color: #008080; text-decoration-color: #008080; font-weight: bold\">2025</span>-<span style=\"color: #008080; text-decoration-color: #008080; font-weight: bold\">03</span>-<span style=\"color: #008080; text-decoration-color: #008080; font-weight: bold\">04</span> <span style=\"color: #00ff00; text-decoration-color: #00ff00; font-weight: bold\">20:46:32</span>,<span style=\"color: #008080; text-decoration-color: #008080; font-weight: bold\">772</span> - <span style=\"font-weight: bold\">{</span>pytorch_tabular.tabular_datamodul<span style=\"color: #00ff00; text-decoration-color: #00ff00; font-weight: bold\">e:522</span><span style=\"font-weight: bold\">}</span> - INFO - Setting up the datamodule for          \n",
       "regression task                                                                                                    \n",
       "</pre>\n"
      ],
      "text/plain": [
       "\u001b[1;36m2025\u001b[0m-\u001b[1;36m03\u001b[0m-\u001b[1;36m04\u001b[0m \u001b[1;92m20:46:32\u001b[0m,\u001b[1;36m772\u001b[0m - \u001b[1m{\u001b[0mpytorch_tabular.tabular_datamodul\u001b[1;92me:522\u001b[0m\u001b[1m}\u001b[0m - INFO - Setting up the datamodule for          \n",
       "regression task                                                                                                    \n"
      ]
     },
     "metadata": {},
     "output_type": "display_data"
    },
    {
     "data": {
      "text/html": [
       "<pre style=\"white-space:pre;overflow-x:auto;line-height:normal;font-family:Menlo,'DejaVu Sans Mono',consolas,'Courier New',monospace\"><span style=\"color: #008080; text-decoration-color: #008080; font-weight: bold\">2025</span>-<span style=\"color: #008080; text-decoration-color: #008080; font-weight: bold\">03</span>-<span style=\"color: #008080; text-decoration-color: #008080; font-weight: bold\">04</span> <span style=\"color: #00ff00; text-decoration-color: #00ff00; font-weight: bold\">20:46:32</span>,<span style=\"color: #008080; text-decoration-color: #008080; font-weight: bold\">781</span> - <span style=\"font-weight: bold\">{</span>pytorch_tabular.tabular_model:<span style=\"color: #008080; text-decoration-color: #008080; font-weight: bold\">599</span><span style=\"font-weight: bold\">}</span> - INFO - Preparing the Model: TabTransformerModel    \n",
       "</pre>\n"
      ],
      "text/plain": [
       "\u001b[1;36m2025\u001b[0m-\u001b[1;36m03\u001b[0m-\u001b[1;36m04\u001b[0m \u001b[1;92m20:46:32\u001b[0m,\u001b[1;36m781\u001b[0m - \u001b[1m{\u001b[0mpytorch_tabular.tabular_model:\u001b[1;36m599\u001b[0m\u001b[1m}\u001b[0m - INFO - Preparing the Model: TabTransformerModel    \n"
      ]
     },
     "metadata": {},
     "output_type": "display_data"
    },
    {
     "data": {
      "text/html": [
       "<pre style=\"white-space:pre;overflow-x:auto;line-height:normal;font-family:Menlo,'DejaVu Sans Mono',consolas,'Courier New',monospace\"><span style=\"color: #008080; text-decoration-color: #008080; font-weight: bold\">2025</span>-<span style=\"color: #008080; text-decoration-color: #008080; font-weight: bold\">03</span>-<span style=\"color: #008080; text-decoration-color: #008080; font-weight: bold\">04</span> <span style=\"color: #00ff00; text-decoration-color: #00ff00; font-weight: bold\">20:46:32</span>,<span style=\"color: #008080; text-decoration-color: #008080; font-weight: bold\">796</span> - <span style=\"font-weight: bold\">{</span>pytorch_tabular.tabular_model:<span style=\"color: #008080; text-decoration-color: #008080; font-weight: bold\">342</span><span style=\"font-weight: bold\">}</span> - INFO - Preparing the Trainer                       \n",
       "</pre>\n"
      ],
      "text/plain": [
       "\u001b[1;36m2025\u001b[0m-\u001b[1;36m03\u001b[0m-\u001b[1;36m04\u001b[0m \u001b[1;92m20:46:32\u001b[0m,\u001b[1;36m796\u001b[0m - \u001b[1m{\u001b[0mpytorch_tabular.tabular_model:\u001b[1;36m342\u001b[0m\u001b[1m}\u001b[0m - INFO - Preparing the Trainer                       \n"
      ]
     },
     "metadata": {},
     "output_type": "display_data"
    },
    {
     "name": "stderr",
     "output_type": "stream",
     "text": [
      "GPU available: True (mps), used: True\n",
      "TPU available: False, using: 0 TPU cores\n",
      "HPU available: False, using: 0 HPUs\n"
     ]
    },
    {
     "data": {
      "text/html": [
       "<pre style=\"white-space:pre;overflow-x:auto;line-height:normal;font-family:Menlo,'DejaVu Sans Mono',consolas,'Courier New',monospace\"><span style=\"color: #008080; text-decoration-color: #008080; font-weight: bold\">2025</span>-<span style=\"color: #008080; text-decoration-color: #008080; font-weight: bold\">03</span>-<span style=\"color: #008080; text-decoration-color: #008080; font-weight: bold\">04</span> <span style=\"color: #00ff00; text-decoration-color: #00ff00; font-weight: bold\">20:46:32</span>,<span style=\"color: #008080; text-decoration-color: #008080; font-weight: bold\">803</span> - <span style=\"font-weight: bold\">{</span>pytorch_tabular.tabular_model:<span style=\"color: #008080; text-decoration-color: #008080; font-weight: bold\">678</span><span style=\"font-weight: bold\">}</span> - INFO - Training Started                            \n",
       "</pre>\n"
      ],
      "text/plain": [
       "\u001b[1;36m2025\u001b[0m-\u001b[1;36m03\u001b[0m-\u001b[1;36m04\u001b[0m \u001b[1;92m20:46:32\u001b[0m,\u001b[1;36m803\u001b[0m - \u001b[1m{\u001b[0mpytorch_tabular.tabular_model:\u001b[1;36m678\u001b[0m\u001b[1m}\u001b[0m - INFO - Training Started                            \n"
      ]
     },
     "metadata": {},
     "output_type": "display_data"
    },
    {
     "name": "stderr",
     "output_type": "stream",
     "text": [
      "/Users/beas28/miniconda3/envs/infoChallenge/lib/python3.10/site-packages/pytorch_lightning/callbacks/model_checkpoint.py:654: Checkpoint directory /Users/beas28/Desktop/info Challenge/saved_models exists and is not empty.\n"
     ]
    },
    {
     "data": {
      "text/html": [
       "<pre style=\"white-space:pre;overflow-x:auto;line-height:normal;font-family:Menlo,'DejaVu Sans Mono',consolas,'Courier New',monospace\">┏━━━┳━━━━━━━━━━━━━━━━━━┳━━━━━━━━━━━━━━━━━━━━━━━━┳━━━━━━━━┳━━━━━━━┓\n",
       "┃<span style=\"color: #800080; text-decoration-color: #800080; font-weight: bold\">   </span>┃<span style=\"color: #800080; text-decoration-color: #800080; font-weight: bold\"> Name             </span>┃<span style=\"color: #800080; text-decoration-color: #800080; font-weight: bold\"> Type                   </span>┃<span style=\"color: #800080; text-decoration-color: #800080; font-weight: bold\"> Params </span>┃<span style=\"color: #800080; text-decoration-color: #800080; font-weight: bold\"> Mode  </span>┃\n",
       "┡━━━╇━━━━━━━━━━━━━━━━━━╇━━━━━━━━━━━━━━━━━━━━━━━━╇━━━━━━━━╇━━━━━━━┩\n",
       "│<span style=\"color: #7f7f7f; text-decoration-color: #7f7f7f\"> 0 </span>│ _backbone        │ TabTransformerBackbone │  100 K │ train │\n",
       "│<span style=\"color: #7f7f7f; text-decoration-color: #7f7f7f\"> 1 </span>│ _embedding_layer │ Embedding2dLayer       │      0 │ train │\n",
       "│<span style=\"color: #7f7f7f; text-decoration-color: #7f7f7f\"> 2 </span>│ _head            │ LinearHead             │     16 │ train │\n",
       "│<span style=\"color: #7f7f7f; text-decoration-color: #7f7f7f\"> 3 </span>│ loss             │ MSELoss                │      0 │ train │\n",
       "└───┴──────────────────┴────────────────────────┴────────┴───────┘\n",
       "</pre>\n"
      ],
      "text/plain": [
       "┏━━━┳━━━━━━━━━━━━━━━━━━┳━━━━━━━━━━━━━━━━━━━━━━━━┳━━━━━━━━┳━━━━━━━┓\n",
       "┃\u001b[1;35m \u001b[0m\u001b[1;35m \u001b[0m\u001b[1;35m \u001b[0m┃\u001b[1;35m \u001b[0m\u001b[1;35mName            \u001b[0m\u001b[1;35m \u001b[0m┃\u001b[1;35m \u001b[0m\u001b[1;35mType                  \u001b[0m\u001b[1;35m \u001b[0m┃\u001b[1;35m \u001b[0m\u001b[1;35mParams\u001b[0m\u001b[1;35m \u001b[0m┃\u001b[1;35m \u001b[0m\u001b[1;35mMode \u001b[0m\u001b[1;35m \u001b[0m┃\n",
       "┡━━━╇━━━━━━━━━━━━━━━━━━╇━━━━━━━━━━━━━━━━━━━━━━━━╇━━━━━━━━╇━━━━━━━┩\n",
       "│\u001b[2m \u001b[0m\u001b[2m0\u001b[0m\u001b[2m \u001b[0m│ _backbone        │ TabTransformerBackbone │  100 K │ train │\n",
       "│\u001b[2m \u001b[0m\u001b[2m1\u001b[0m\u001b[2m \u001b[0m│ _embedding_layer │ Embedding2dLayer       │      0 │ train │\n",
       "│\u001b[2m \u001b[0m\u001b[2m2\u001b[0m\u001b[2m \u001b[0m│ _head            │ LinearHead             │     16 │ train │\n",
       "│\u001b[2m \u001b[0m\u001b[2m3\u001b[0m\u001b[2m \u001b[0m│ loss             │ MSELoss                │      0 │ train │\n",
       "└───┴──────────────────┴────────────────────────┴────────┴───────┘\n"
      ]
     },
     "metadata": {},
     "output_type": "display_data"
    },
    {
     "data": {
      "text/html": [
       "<pre style=\"white-space:pre;overflow-x:auto;line-height:normal;font-family:Menlo,'DejaVu Sans Mono',consolas,'Courier New',monospace\"><span style=\"font-weight: bold\">Trainable params</span>: 100 K                                                                                            \n",
       "<span style=\"font-weight: bold\">Non-trainable params</span>: 0                                                                                            \n",
       "<span style=\"font-weight: bold\">Total params</span>: 100 K                                                                                                \n",
       "<span style=\"font-weight: bold\">Total estimated model params size (MB)</span>: 0                                                                          \n",
       "<span style=\"font-weight: bold\">Modules in train mode</span>: 139                                                                                         \n",
       "<span style=\"font-weight: bold\">Modules in eval mode</span>: 0                                                                                            \n",
       "</pre>\n"
      ],
      "text/plain": [
       "\u001b[1mTrainable params\u001b[0m: 100 K                                                                                            \n",
       "\u001b[1mNon-trainable params\u001b[0m: 0                                                                                            \n",
       "\u001b[1mTotal params\u001b[0m: 100 K                                                                                                \n",
       "\u001b[1mTotal estimated model params size (MB)\u001b[0m: 0                                                                          \n",
       "\u001b[1mModules in train mode\u001b[0m: 139                                                                                         \n",
       "\u001b[1mModules in eval mode\u001b[0m: 0                                                                                            \n"
      ]
     },
     "metadata": {},
     "output_type": "display_data"
    },
    {
     "data": {
      "application/vnd.jupyter.widget-view+json": {
       "model_id": "7b0b042fac39453b98ccfa3b5fb94446",
       "version_major": 2,
       "version_minor": 0
      },
      "text/plain": [
       "Output()"
      ]
     },
     "metadata": {},
     "output_type": "display_data"
    },
    {
     "data": {
      "text/html": [
       "<pre style=\"white-space:pre;overflow-x:auto;line-height:normal;font-family:Menlo,'DejaVu Sans Mono',consolas,'Courier New',monospace\">/Users/beas28/miniconda3/envs/infoChallenge/lib/python3.10/site-packages/pytorch_lightning/trainer/connectors/data_\n",
       "connector.py:424: The 'val_dataloader' does not have many workers which may be a bottleneck. Consider increasing \n",
       "the value of the `num_workers` argument` to `num_workers=10` in the `DataLoader` to improve performance.\n",
       "</pre>\n"
      ],
      "text/plain": [
       "/Users/beas28/miniconda3/envs/infoChallenge/lib/python3.10/site-packages/pytorch_lightning/trainer/connectors/data_\n",
       "connector.py:424: The 'val_dataloader' does not have many workers which may be a bottleneck. Consider increasing \n",
       "the value of the `num_workers` argument` to `num_workers=10` in the `DataLoader` to improve performance.\n"
      ]
     },
     "metadata": {},
     "output_type": "display_data"
    },
    {
     "data": {
      "text/html": [
       "<pre style=\"white-space:pre;overflow-x:auto;line-height:normal;font-family:Menlo,'DejaVu Sans Mono',consolas,'Courier New',monospace\">/Users/beas28/miniconda3/envs/infoChallenge/lib/python3.10/site-packages/pytorch_lightning/trainer/connectors/data_\n",
       "connector.py:424: The 'train_dataloader' does not have many workers which may be a bottleneck. Consider increasing \n",
       "the value of the `num_workers` argument` to `num_workers=10` in the `DataLoader` to improve performance.\n",
       "</pre>\n"
      ],
      "text/plain": [
       "/Users/beas28/miniconda3/envs/infoChallenge/lib/python3.10/site-packages/pytorch_lightning/trainer/connectors/data_\n",
       "connector.py:424: The 'train_dataloader' does not have many workers which may be a bottleneck. Consider increasing \n",
       "the value of the `num_workers` argument` to `num_workers=10` in the `DataLoader` to improve performance.\n"
      ]
     },
     "metadata": {},
     "output_type": "display_data"
    },
    {
     "data": {
      "text/html": [
       "<pre style=\"white-space:pre;overflow-x:auto;line-height:normal;font-family:Menlo,'DejaVu Sans Mono',consolas,'Courier New',monospace\">/Users/beas28/miniconda3/envs/infoChallenge/lib/python3.10/site-packages/pytorch_lightning/loops/fit_loop.py:298: \n",
       "The number of training batches (31) is smaller than the logging interval Trainer(log_every_n_steps=50). Set a lower\n",
       "value for log_every_n_steps if you want to see logs for the training epoch.\n",
       "</pre>\n"
      ],
      "text/plain": [
       "/Users/beas28/miniconda3/envs/infoChallenge/lib/python3.10/site-packages/pytorch_lightning/loops/fit_loop.py:298: \n",
       "The number of training batches (31) is smaller than the logging interval Trainer(log_every_n_steps=50). Set a lower\n",
       "value for log_every_n_steps if you want to see logs for the training epoch.\n"
      ]
     },
     "metadata": {},
     "output_type": "display_data"
    },
    {
     "data": {
      "text/html": [
       "<pre style=\"white-space:pre;overflow-x:auto;line-height:normal;font-family:Menlo,'DejaVu Sans Mono',consolas,'Courier New',monospace\"></pre>\n"
      ],
      "text/plain": []
     },
     "metadata": {},
     "output_type": "display_data"
    },
    {
     "data": {
      "text/html": [
       "<pre style=\"white-space:pre;overflow-x:auto;line-height:normal;font-family:Menlo,'DejaVu Sans Mono',consolas,'Courier New',monospace\"><span style=\"color: #008080; text-decoration-color: #008080; font-weight: bold\">2025</span>-<span style=\"color: #008080; text-decoration-color: #008080; font-weight: bold\">03</span>-<span style=\"color: #008080; text-decoration-color: #008080; font-weight: bold\">04</span> <span style=\"color: #00ff00; text-decoration-color: #00ff00; font-weight: bold\">20:46:39</span>,<span style=\"color: #008080; text-decoration-color: #008080; font-weight: bold\">619</span> - <span style=\"font-weight: bold\">{</span>pytorch_tabular.tabular_model:<span style=\"color: #008080; text-decoration-color: #008080; font-weight: bold\">689</span><span style=\"font-weight: bold\">}</span> - INFO - Training the model completed                \n",
       "</pre>\n"
      ],
      "text/plain": [
       "\u001b[1;36m2025\u001b[0m-\u001b[1;36m03\u001b[0m-\u001b[1;36m04\u001b[0m \u001b[1;92m20:46:39\u001b[0m,\u001b[1;36m619\u001b[0m - \u001b[1m{\u001b[0mpytorch_tabular.tabular_model:\u001b[1;36m689\u001b[0m\u001b[1m}\u001b[0m - INFO - Training the model completed                \n"
      ]
     },
     "metadata": {},
     "output_type": "display_data"
    },
    {
     "data": {
      "text/html": [
       "<pre style=\"white-space:pre;overflow-x:auto;line-height:normal;font-family:Menlo,'DejaVu Sans Mono',consolas,'Courier New',monospace\"><span style=\"color: #008080; text-decoration-color: #008080; font-weight: bold\">2025</span>-<span style=\"color: #008080; text-decoration-color: #008080; font-weight: bold\">03</span>-<span style=\"color: #008080; text-decoration-color: #008080; font-weight: bold\">04</span> <span style=\"color: #00ff00; text-decoration-color: #00ff00; font-weight: bold\">20:46:39</span>,<span style=\"color: #008080; text-decoration-color: #008080; font-weight: bold\">620</span> - <span style=\"font-weight: bold\">{</span>pytorch_tabular.tabular_model:<span style=\"color: #008080; text-decoration-color: #008080; font-weight: bold\">1529</span><span style=\"font-weight: bold\">}</span> - INFO - Loading the best model                     \n",
       "</pre>\n"
      ],
      "text/plain": [
       "\u001b[1;36m2025\u001b[0m-\u001b[1;36m03\u001b[0m-\u001b[1;36m04\u001b[0m \u001b[1;92m20:46:39\u001b[0m,\u001b[1;36m620\u001b[0m - \u001b[1m{\u001b[0mpytorch_tabular.tabular_model:\u001b[1;36m1529\u001b[0m\u001b[1m}\u001b[0m - INFO - Loading the best model                     \n"
      ]
     },
     "metadata": {},
     "output_type": "display_data"
    },
    {
     "data": {
      "text/plain": [
       "<pytorch_lightning.trainer.trainer.Trainer at 0x34d2c5e10>"
      ]
     },
     "execution_count": 137,
     "metadata": {},
     "output_type": "execute_result"
    }
   ],
   "source": [
    "\n",
    "tabular_model.fit(train=train, validation=val)\n"
   ]
  },
  {
   "cell_type": "code",
   "execution_count": 138,
   "metadata": {},
   "outputs": [
    {
     "data": {
      "text/html": [
       "<pre style=\"white-space:pre;overflow-x:auto;line-height:normal;font-family:Menlo,'DejaVu Sans Mono',consolas,'Courier New',monospace\"><span style=\"color: #008080; text-decoration-color: #008080; font-weight: bold\">0.08332717932025901</span>\n",
       "</pre>\n"
      ],
      "text/plain": [
       "\u001b[1;36m0.08332717932025901\u001b[0m\n"
      ]
     },
     "metadata": {},
     "output_type": "display_data"
    }
   ],
   "source": [
    "from sklearn.metrics import r2_score\n",
    "y_pred = tabular_model.predict(test=test)\n",
    "score = r2_score(y_pred, test['UHI Index'])\n",
    "print(score)"
   ]
  },
  {
   "cell_type": "code",
   "execution_count": null,
   "metadata": {},
   "outputs": [],
   "source": []
  }
 ],
 "metadata": {
  "kernelspec": {
   "display_name": "infoChallenge",
   "language": "python",
   "name": "python3"
  },
  "language_info": {
   "codemirror_mode": {
    "name": "ipython",
    "version": 3
   },
   "file_extension": ".py",
   "mimetype": "text/x-python",
   "name": "python",
   "nbconvert_exporter": "python",
   "pygments_lexer": "ipython3",
   "version": "3.10.16"
  }
 },
 "nbformat": 4,
 "nbformat_minor": 2
}
